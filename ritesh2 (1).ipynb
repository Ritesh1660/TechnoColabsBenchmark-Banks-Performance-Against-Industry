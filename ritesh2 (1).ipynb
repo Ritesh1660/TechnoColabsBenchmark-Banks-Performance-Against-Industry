{
 "cells": [
  {
   "cell_type": "code",
   "execution_count": 4,
   "id": "2c34d2c8",
   "metadata": {},
   "outputs": [],
   "source": [
    "from selenium.webdriver.common.by import By"
   ]
  },
  {
   "cell_type": "code",
   "execution_count": 5,
   "id": "6af1a3cb",
   "metadata": {},
   "outputs": [],
   "source": [
    "i = 0"
   ]
  },
  {
   "cell_type": "code",
   "execution_count": 6,
   "id": "b04bfa31",
   "metadata": {},
   "outputs": [],
   "source": [
    "x = ['/html/body/form/div[5]/div[1]/div[3]/div/div/div[1]/table[2]/tbody/tr[2]/td[2]/a',\n",
    "'/html/body/form/div[5]/div[1]/div[3]/div/div/div[1]/table[2]/tbody/tr[4]/td[2]/a',\n",
    "'/html/body/form/div[5]/div[1]/div[3]/div/div/div[1]/table[2]/tbody/tr[6]/td[2]/a',\n",
    "'/html/body/form/div[5]/div[1]/div[3]/div/div/div[1]/table[2]/tbody/tr[8]/td[2]/a',\n",
    "'/html/body/form/div[5]/div[1]/div[3]/div/div/div[1]/table[2]/tbody/tr[10]/td[2]/a',\n",
    "'/html/body/form/div[5]/div[1]/div[3]/div/div/div[1]/table[2]/tbody/tr[12]/td[2]/a',\n",
    "'/html/body/form/div[5]/div[1]/div[3]/div/div/div[1]/table[2]/tbody/tr[14]/td[2]/a',\n",
    "'/html/body/form/div[5]/div[1]/div[3]/div/div/div[1]/table[2]/tbody/tr[16]/td[2]/a',\n",
    "'/html/body/form/div[5]/div[1]/div[3]/div/div/div[1]/table[2]/tbody/tr[18]/td[2]/a',\n",
    "'/html/body/form/div[5]/div[1]/div[3]/div/div/div[1]/table[2]/tbody/tr[20]/td[2]/a']\n",
    "\n",
    "\n"
   ]
  },
  {
   "cell_type": "code",
   "execution_count": 7,
   "id": "ebcfcadf",
   "metadata": {},
   "outputs": [
    {
     "ename": "IndexError",
     "evalue": "list index out of range",
     "output_type": "error",
     "traceback": [
      "\u001b[1;31m---------------------------------------------------------------------------\u001b[0m",
      "\u001b[1;31mIndexError\u001b[0m                                Traceback (most recent call last)",
      "\u001b[1;32m~\\AppData\\Local\\Temp\\ipykernel_6180\\186809357.py\u001b[0m in \u001b[0;36m<cell line: 12>\u001b[1;34m()\u001b[0m\n\u001b[0;32m     11\u001b[0m \u001b[1;31m# Find the download link using XPath\u001b[0m\u001b[1;33m\u001b[0m\u001b[1;33m\u001b[0m\u001b[0m\n\u001b[0;32m     12\u001b[0m \u001b[1;32mfor\u001b[0m \u001b[0mitems\u001b[0m \u001b[1;32min\u001b[0m \u001b[0mx\u001b[0m\u001b[1;33m[\u001b[0m\u001b[0mi\u001b[0m\u001b[1;33m]\u001b[0m\u001b[1;33m:\u001b[0m\u001b[1;33m\u001b[0m\u001b[1;33m\u001b[0m\u001b[0m\n\u001b[1;32m---> 13\u001b[1;33m     \u001b[0mdownload_link\u001b[0m \u001b[1;33m=\u001b[0m \u001b[0mdriver\u001b[0m\u001b[1;33m.\u001b[0m\u001b[0mfind_element\u001b[0m\u001b[1;33m(\u001b[0m\u001b[0mBy\u001b[0m\u001b[1;33m.\u001b[0m\u001b[0mXPATH\u001b[0m\u001b[1;33m,\u001b[0m \u001b[0mx\u001b[0m\u001b[1;33m[\u001b[0m\u001b[0mi\u001b[0m\u001b[1;33m]\u001b[0m\u001b[1;33m)\u001b[0m  \u001b[1;31m# Replace with actual attribute value\u001b[0m\u001b[1;33m\u001b[0m\u001b[1;33m\u001b[0m\u001b[0m\n\u001b[0m\u001b[0;32m     14\u001b[0m     \u001b[0mdownload_link\u001b[0m\u001b[1;33m.\u001b[0m\u001b[0mclick\u001b[0m\u001b[1;33m(\u001b[0m\u001b[1;33m)\u001b[0m\u001b[1;33m\u001b[0m\u001b[1;33m\u001b[0m\u001b[0m\n\u001b[0;32m     15\u001b[0m     \u001b[0mtime\u001b[0m\u001b[1;33m.\u001b[0m\u001b[0msleep\u001b[0m\u001b[1;33m(\u001b[0m\u001b[1;36m5\u001b[0m\u001b[1;33m)\u001b[0m\u001b[1;33m\u001b[0m\u001b[1;33m\u001b[0m\u001b[0m\n",
      "\u001b[1;31mIndexError\u001b[0m: list index out of range"
     ]
    }
   ],
   "source": [
    "from selenium import webdriver\n",
    "import time\n",
    "\n",
    "# Initialize the Chrome web driver\n",
    "driver = webdriver.Chrome()\n",
    "\n",
    "# Open the RBI site URL\n",
    "url = 'https://www.rbi.org.in/Scripts/ATMView.aspx'\n",
    "driver.get(url)\n",
    "\n",
    "# Find the download link using XPath\n",
    "for items in x[i]:\n",
    "    download_link = driver.find_element(By.XPATH, x[i])  # Replace with actual attribute value\n",
    "    download_link.click()\n",
    "    time.sleep(5)\n",
    "    i= i+1\n",
    "# Click the download link to initiate the download\n",
    "\n",
    "\n",
    "# Wait for a few seconds to let the download complete\n",
    "time.sleep(5)  # Adjust the wait time as needed\n",
    "\n",
    "# Close the browser window\n",
    "driver.quit()\n"
   ]
  },
  {
   "cell_type": "code",
   "execution_count": null,
   "id": "088953a5",
   "metadata": {},
   "outputs": [],
   "source": []
  },
  {
   "cell_type": "code",
   "execution_count": null,
   "id": "21575c78",
   "metadata": {},
   "outputs": [],
   "source": []
  }
 ],
 "metadata": {
  "kernelspec": {
   "display_name": "Python 3 (ipykernel)",
   "language": "python",
   "name": "python3"
  },
  "language_info": {
   "codemirror_mode": {
    "name": "ipython",
    "version": 3
   },
   "file_extension": ".py",
   "mimetype": "text/x-python",
   "name": "python",
   "nbconvert_exporter": "python",
   "pygments_lexer": "ipython3",
   "version": "3.10.8"
  }
 },
 "nbformat": 4,
 "nbformat_minor": 5
}
